{
 "cells": [
  {
   "cell_type": "markdown",
   "metadata": {},
   "source": [
    "# U(2) and its corresponding rotation"
   ]
  },
  {
   "cell_type": "markdown",
   "metadata": {},
   "source": [
    "As is widely known, $SU(2)/ Z_2 \\cong SO(3)$\n",
    "\n",
    "More generally, any 3-D rotation can be regarded as a group of Unitary Matrices, differing by a global phase.\n",
    "\n",
    "In this notebook, I am trying to give some useful functions to do the transformation between different representations."
   ]
  },
  {
   "cell_type": "markdown",
   "metadata": {},
   "source": [
    "## · $\\{\\hat{n},\\theta\\}$  ——   The rotation axis and angle\n",
    "## · The matrix $U$, represented by $R_{\\hat{n}} (\\theta)$.      \n",
    "####   $\\ \\ \\ $     Here        $ U = R_{\\hat{n}} (\\theta) e^{i\\alpha} $\n",
    "## · The ZXZ Euler Angle $\\{\\beta,\\gamma,\\delta\\}$ , and the phase $\\alpha $"
   ]
  },
  {
   "cell_type": "markdown",
   "metadata": {},
   "source": [
    "."
   ]
  },
  {
   "cell_type": "markdown",
   "metadata": {},
   "source": [
    "###  1.  $\\{\\hat{n},\\theta\\} \\rightarrow R_{\\hat{n}} (\\theta)$\n",
    "##### From rotation axis and angle, constructing SU(2) rotation matrix "
   ]
  },
  {
   "cell_type": "code",
   "execution_count": 54,
   "metadata": {},
   "outputs": [],
   "source": [
    "import numpy as np\n",
    "from scipy.linalg import expm\n",
    "import math"
   ]
  },
  {
   "cell_type": "code",
   "execution_count": 55,
   "metadata": {},
   "outputs": [],
   "source": [
    "sigma_x = np.array([[0, 1], [1, 0]], dtype=complex)\n",
    "sigma_y = np.array([[0, -1j], [1j, 0]], dtype=complex)\n",
    "sigma_z = np.array([[1, 0], [0, -1]], dtype=complex)"
   ]
  },
  {
   "cell_type": "code",
   "execution_count": 56,
   "metadata": {},
   "outputs": [],
   "source": [
    "def rotation_to_matrix_U2(n, theta):\n",
    "    \"\"\"\n",
    "    Calculate the rotation matrix for a rotation around axis n by angle theta\n",
    "    --------------\n",
    "    Parameters:\n",
    "    n: Rotation axis (n_x, n_y, n_z), should be a normalized vector\n",
    "    theta: Rotation angle (in radians)\n",
    "    --------------\n",
    "    return: 2x2 rotation matrix\n",
    "    \"\"\"\n",
    "    # Normalize the rotation axis\n",
    "    n = n / np.linalg.norm(n)\n",
    "    \n",
    "    # Calculate n · σ (linear combination of Pauli matrices)\n",
    "    n_dot_sigma = n[0] * sigma_x + n[1] * sigma_y + n[2] * sigma_z\n",
    "    \n",
    "    # Calculate the rotation matrix: R_n(θ) = exp(-i * θ / 2 * n · σ)\n",
    "    rotation = expm(-1j * theta / 2 * n_dot_sigma)\n",
    "    \n",
    "    return rotation"
   ]
  },
  {
   "cell_type": "markdown",
   "metadata": {},
   "source": [
    "###  2.  Matrix Elements $ \\{a,b,c,d\\} \\rightarrow$ ZXZ Euler Angle $\\{\\beta,\\gamma,\\delta\\}$ , and the phase $\\alpha $"
   ]
  },
  {
   "cell_type": "code",
   "execution_count": 57,
   "metadata": {},
   "outputs": [],
   "source": [
    "def calculate_angle_from_complex(z):\n",
    "    \"\"\"\n",
    "    Calculate the angle (phase) from a complex number.\n",
    "    \n",
    "    Parameters:\n",
    "    z (complex): A complex number\n",
    "    \n",
    "    Returns:\n",
    "    float: The angle (phase) in the range [0, 2*pi]\n",
    "    \"\"\"\n",
    "    # Extract the real and imaginary parts of the complex number\n",
    "    a = z.real\n",
    "    b = z.imag\n",
    "    \n",
    "    # Use atan2 to calculate the phase angle, result will be in the range [-pi, pi]\n",
    "    theta = math.atan2(b, a)\n",
    "    \n",
    "    # Convert the angle to the range [0, 2*pi]\n",
    "    if theta < 0:\n",
    "        theta += 2 * math.pi\n",
    "        \n",
    "    return theta"
   ]
  },
  {
   "cell_type": "code",
   "execution_count": 58,
   "metadata": {},
   "outputs": [],
   "source": [
    "def matrix_U2_to_EulerAngle(U):\n",
    "    \"\"\"\n",
    "    Calculate Euler angles from a 2x2 SU(2) matrix\n",
    "    --------------\n",
    "    Parameters:\n",
    "    U: 2x2 SU(2) matrix\n",
    "    --------------\n",
    "    return: Euler angles (β, γ,δ),and phase factor α\n",
    "    \"\"\"\n",
    "    a,b,c,d = U[0,0],U[0,1],U[1,0],U[1,1]\n",
    "    γ = 2*np.arccos(abs(a))\n",
    "    if np.isclose(γ, np.pi):\n",
    "        β = 0\n",
    "        δ = calculate_angle_from_complex(b/c)\n",
    "        α = calculate_angle_from_complex(1j*b*np.exp(-1j*0.5*δ))\n",
    "    elif np.isclose(γ, 0):\n",
    "        β = 0\n",
    "        δ = calculate_angle_from_complex(d/a)\n",
    "        α = calculate_angle_from_complex(a*np.exp(1j*0.5*δ))\n",
    "    else:\n",
    "        β = calculate_angle_from_complex(1j*c/(a*np.tan(0.5*γ)))\n",
    "        δ = calculate_angle_from_complex(1j*b/(a*np.tan(0.5*γ)))\n",
    "        α = calculate_angle_from_complex(a*(1/np.cos(0.5*γ))*np.exp(1j*0.5*(β+δ)))\n",
    "    return β, γ, δ, α\n"
   ]
  },
  {
   "cell_type": "markdown",
   "metadata": {},
   "source": [
    "### 3.  ZXZ Euler Angle $\\{\\beta,\\gamma,\\delta\\}$ , and the phase $\\alpha$ $\\rightarrow$ Matrix Elements $ \\{a,b,c,d\\}$\n",
    "\n",
    "This part is easy, you just do the multiplication."
   ]
  },
  {
   "cell_type": "code",
   "execution_count": 59,
   "metadata": {},
   "outputs": [],
   "source": [
    "def EulerAngle_to_matrix_U2(β, γ, δ, α):\n",
    "    \"\"\"\n",
    "    Calculate a 2x2 SU(2) matrix from Euler angles\n",
    "    --------------\n",
    "    Parameters:\n",
    "    β: Euler angle β\n",
    "    γ: Euler angle γ\n",
    "    δ: Euler angle δ\n",
    "    α: Phase factor α\n",
    "    --------------\n",
    "    return: 2x2 SU(2) matrix\n",
    "    \"\"\"\n",
    "    Rz1 = rotation_to_matrix_U2([0, 0, 1], β)\n",
    "    Rx = rotation_to_matrix_U2([1, 0, 0], γ)\n",
    "    Rz2 = rotation_to_matrix_U2([0, 0, 1], δ)\n",
    "    phase = np.exp(1j*α)\n",
    "    U = Rz1 @ Rx @ Rz2*phase\n",
    "    return U"
   ]
  },
  {
   "cell_type": "markdown",
   "metadata": {},
   "source": [
    "###  4.  $ U \\rightarrow \\{\\hat{n},\\theta\\}$ ,and the phase $\\alpha$\n",
    "##### The inverse process of '1'\n",
    "##### Given the matrix U, give out the axis and angle, as well as a phase $\\alpha$\n",
    "\n",
    "Here, we choose theta in [0,pi] to determine the only axis"
   ]
  },
  {
   "cell_type": "code",
   "execution_count": 73,
   "metadata": {},
   "outputs": [],
   "source": [
    "def matrix_U2_to_rotation(U):\n",
    "    \"\"\"\n",
    "    Calculate the rotation axis and angle from a 2x2 SU(2) matrix\n",
    "    --------------\n",
    "    Parameters:\n",
    "    U: 2x2 SU(2) matrix\n",
    "    --------------\n",
    "    return: Rotation axis (n_x, n_y, n_z) and rotation angle θ, as well as the phase factor α\n",
    "    \"\"\"\n",
    "    \n",
    "    a,b,c,d = U[0,0],U[0,1],U[1,0],U[1,1]\n",
    "    theta = 2*np.arccos(abs((a+d)/2))\n",
    "    if np.isclose(theta, np.pi):   # See if theta is pi\n",
    "        n_z = abs(a)\n",
    "        if np.isclose(n_z, 0):   # unable to determine alpha\n",
    "            n_y = abs(c-b)/2\n",
    "            if np.isclose(n_y, 0):\n",
    "                n_x = 1\n",
    "                alpha = calculate_angle_from_complex((c+b)/(-2j))\n",
    "            else:\n",
    "                alpha = calculate_angle_from_complex((c-b)/(2*n_y))\n",
    "                n_x = (c+b)/(-2j*np.exp(1j*alpha))\n",
    "\n",
    "        else:\n",
    "            alpha = calculate_angle_from_complex(a/(-1j*n_z))\n",
    "            n_y = (c-b)/(2*np.exp(1j*alpha))\n",
    "            n_x = (c+b)/(-2j*np.exp(1j*alpha))\n",
    "    elif np.isclose(theta, 0):\n",
    "        # Not a rotation at all, random axis\n",
    "        n_z = 1\n",
    "        n_y = 0\n",
    "        n_x = 0\n",
    "        thata = 0\n",
    "        alpha = calculate_angle_from_complex(a)\n",
    "    else:\n",
    "        alpha = calculate_angle_from_complex((a+d)/(2*np.cos(theta/2)))\n",
    "        phase_destroy = np.exp(-1j*alpha)\n",
    "        n_x = (b+c)/(-2j*np.sin(theta/2))*phase_destroy\n",
    "        n_y = (c-b)/(2*np.sin(theta/2))*phase_destroy\n",
    "        n_z = (d-a)/(2j*np.sin(theta/2)) *phase_destroy\n",
    "    \n",
    "    n_x = np.real(n_x)\n",
    "    n_y = np.real(n_y)\n",
    "    n_z = np.real(n_z)\n",
    "    mod = np.sqrt(n_x**2 + n_y**2 + n_z**2)\n",
    "    n_x = n_x/mod\n",
    "    n_y = n_y/mod\n",
    "    n_z = n_z/mod\n",
    "\n",
    "    return n_x, n_y, n_z, theta, alpha\n",
    "\n",
    "\n",
    "   "
   ]
  },
  {
   "cell_type": "markdown",
   "metadata": {},
   "source": [
    "### 5. Given an axis and an angle, we can use the combination of the predefined function to get the Euler Angle"
   ]
  },
  {
   "cell_type": "code",
   "execution_count": 82,
   "metadata": {},
   "outputs": [],
   "source": [
    "def rotation_to_EulerAngle(n, theta):\n",
    "    \"\"\"\n",
    "    Calculate Euler angles from a rotation around axis n by angle theta\n",
    "    --------------\n",
    "    Parameters:\n",
    "    n: Rotation axis (n_x, n_y, n_z), should be a normalized vector\n",
    "    theta: Rotation angle (in radians)\n",
    "    --------------\n",
    "    return: Euler angles (β, γ,δ),and phase factor α\n",
    "    \"\"\"\n",
    "    R_n_theta = rotation_to_matrix_U2(n, theta)\n",
    "    return matrix_U2_to_EulerAngle(R_n_theta)"
   ]
  },
  {
   "cell_type": "markdown",
   "metadata": {},
   "source": [
    "### 6.Given the Euler Angle, we can get the axis and the angle of rotation."
   ]
  },
  {
   "cell_type": "code",
   "execution_count": null,
   "metadata": {},
   "outputs": [],
   "source": [
    "def EulerAngle_to_rotation(β, γ, δ, α):\n",
    "    \"\"\"\n",
    "    Calculate the rotation axis and angle from Euler angles\n",
    "    --------------\n",
    "    Parameters:\n",
    "    β: Euler angle β\n",
    "    γ: Euler angle γ\n",
    "    δ: Euler angle δ\n",
    "    α: Phase factor α\n",
    "    --------------\n",
    "    return: Rotation axis (n_x, n_y, n_z) and rotation angle θ, as well as the phase factor α\n",
    "    \"\"\"\n",
    "    U = EulerAngle_to_matrix_U2(β, γ, δ, α)\n",
    "    return matrix_U2_to_rotation(U)"
   ]
  },
  {
   "cell_type": "markdown",
   "metadata": {},
   "source": [
    "## To do: Maybe we can build the relationship between 2*2 Unitary matrices with 3D matrices too"
   ]
  },
  {
   "cell_type": "markdown",
   "metadata": {},
   "source": [
    "It's easy. Consider the euler angle and everything is so easy!"
   ]
  }
 ],
 "metadata": {
  "kernelspec": {
   "display_name": "Python 3",
   "language": "python",
   "name": "python3"
  },
  "language_info": {
   "codemirror_mode": {
    "name": "ipython",
    "version": 3
   },
   "file_extension": ".py",
   "mimetype": "text/x-python",
   "name": "python",
   "nbconvert_exporter": "python",
   "pygments_lexer": "ipython3",
   "version": "3.11.2"
  }
 },
 "nbformat": 4,
 "nbformat_minor": 2
}
